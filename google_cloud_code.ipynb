{
 "cells": [
  {
   "cell_type": "markdown",
   "metadata": {},
   "source": [
    "Steps to run python in google cloud <br>\n",
    "1) Create an instance based on configuration requirements<br>\n",
    "2) Create a storage based to keep datafiles to be used<br>\n",
    "3) Install all the python dependencies<br>\n",
    "\n",
    "sudo apt-get install python-pip <br>\n",
    "sudo pip install --upgrade pip <br>\n",
    "sudo pip install numpy <br>\n",
    "sudo pip install pandas <br>\n",
    "sudo pip install scipy <br>\n",
    "sudo pip install tensorFlow <br>\n",
    "sudo pip install matplotlib <br>\n"
   ]
  },
  {
   "cell_type": "markdown",
   "metadata": {},
   "source": [
    "Code for counting the storage folder to use the data\n",
    "\n",
    "1) gcloud init <br>\n",
    "\n",
    "2) export GCSFUSE_REPO=gcsfuse-`lsb_release -c -s` echo \"deb http://packages.cloud.google.com/apt $GCSFUSE_REPO main\" | sudo tee /etc/apt/sources.list.d/gcsfuse.list curl https://packages.cloud.google.com/apt/doc/apt-key.gpg | sudo apt-key add -    <br>\n",
    "\n",
    "3) sudo apt-get update  <br>\n",
    "4) sudo apt-get install gcsfuse <br>\n",
    "\n",
    "Generating new directory and mounting the storage folder <br>\n",
    "5) sudo mkdir /mnt/bucket <br>\n",
    "6) sudo chmod a+w /mnt/bucket <br>\n",
    "7) gcsfuse dataml /mnt/bucket <br>"
   ]
  },
  {
   "cell_type": "markdown",
   "metadata": {},
   "source": [
    "The files can be stored in /home/username folder. <br>\n",
    "Access the stored file from /home/username folder <br>"
   ]
  },
  {
   "cell_type": "code",
   "execution_count": null,
   "metadata": {
    "collapsed": true
   },
   "outputs": [],
   "source": []
  }
 ],
 "metadata": {
  "kernelspec": {
   "display_name": "Python 2",
   "language": "python",
   "name": "python2"
  },
  "language_info": {
   "codemirror_mode": {
    "name": "ipython",
    "version": 2
   },
   "file_extension": ".py",
   "mimetype": "text/x-python",
   "name": "python",
   "nbconvert_exporter": "python",
   "pygments_lexer": "ipython2",
   "version": "2.7.12"
  }
 },
 "nbformat": 4,
 "nbformat_minor": 2
}
